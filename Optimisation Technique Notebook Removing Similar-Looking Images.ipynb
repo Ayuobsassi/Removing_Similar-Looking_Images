{
 "cells": [
  {
   "cell_type": "markdown",
   "metadata": {},
   "source": [
    "# Optimisation Technique Notebook: Removing Similar-Looking Images\n",
    "\n",
    "\n",
    " \n"
   ]
  },
  {
   "cell_type": "markdown",
   "metadata": {},
   "source": [
    "This notebook demonstrates how to remove similar-looking images from a dataset."
   ]
  },
  {
   "cell_type": "code",
   "execution_count": 1,
   "metadata": {},
   "outputs": [],
   "source": [
    "# Import necessary libraries\n",
    "import os\n",
    "from PIL import Image\n",
    "import numpy as np\n",
    "import cv2\n",
    "import imutils"
   ]
  },
  {
   "cell_type": "markdown",
   "metadata": {},
   "source": [
    "## Functions for Image Comparison"
   ]
  },
  {
   "cell_type": "markdown",
   "metadata": {},
   "source": [
    "This function draws a color mask on the input image to exclude non-essential regions.\n",
    "\n",
    "Parameters: <br>\n",
    "- img: Input image (BGR format).\n",
    "- borders: Tuple of percentage values (left, top, right, bottom) specifying the mask borders.\n",
    "- color: Color of the mask (default is black). \n",
    "\n",
    "Returns: <br>\n",
    "- Image with color mask applied."
   ]
  },
  {
   "cell_type": "code",
   "execution_count": 2,
   "metadata": {},
   "outputs": [],
   "source": [
    "def draw_color_mask(img, borders, color=(0, 0, 0)):\n",
    "    \n",
    "    h = img.shape[0]\n",
    "    w = img.shape[1]\n",
    "\n",
    "    x_min = int(borders[0] * w / 100)\n",
    "    x_max = w - int(borders[2] * w / 100)\n",
    "    y_min = int(borders[1] * h / 100)\n",
    "    y_max = h - int(borders[3] * h / 100)\n",
    "\n",
    "    img = cv2.rectangle(img, (0, 0), (x_min, h), color, -1)\n",
    "    img = cv2.rectangle(img, (0, 0), (w, y_min), color, -1)\n",
    "    img = cv2.rectangle(img, (x_max, 0), (w, h), color, -1)\n",
    "    img = cv2.rectangle(img, (0, y_max), (w, h), color, -1)\n",
    "\n",
    "    return img"
   ]
  },
  {
   "cell_type": "markdown",
   "metadata": {},
   "source": [
    "This function preprocesses an image for change detection.\n",
    "\n",
    "Parameters:<br>\n",
    "- img: Input image (BGR format).\n",
    "- gaussian_blur_radius_list: List of radius values for Gaussian blur (optional).\n",
    "- black_mask: Tuple of percentage values (left, top, right, bottom) for the color mask (optional).\n",
    "\n",
    "Returns:<br>\n",
    "- Preprocessed grayscale image.\n"
   ]
  },
  {
   "cell_type": "code",
   "execution_count": 3,
   "metadata": {},
   "outputs": [],
   "source": [
    "def preprocess_image_change_detection(img, gaussian_blur_radius_list=None, black_mask=(5, 10, 5, 0)):\n",
    "    \n",
    "    gray = img.copy()\n",
    "    gray = cv2.cvtColor(gray, cv2.COLOR_BGR2GRAY)\n",
    "    if gaussian_blur_radius_list is not None:\n",
    "        for radius in gaussian_blur_radius_list:\n",
    "            gray = cv2.GaussianBlur(gray, (radius, radius), 0)\n",
    "\n",
    "    gray = draw_color_mask(gray, black_mask)\n",
    "\n",
    "    return gray"
   ]
  },
  {
   "cell_type": "markdown",
   "metadata": {},
   "source": [
    "This function compares two frames for change detection.\n",
    "\n",
    "Parameters:\n",
    "- prev_frame: Previous frame (grayscale image).\n",
    "- next_frame: Next frame (grayscale image).\n",
    "- min_contour_area: Minimum contour area threshold for change detection.\n",
    "\n",
    "Returns:\n",
    "- Similarity score, list of contours, and thresholded image."
   ]
  },
  {
   "cell_type": "code",
   "execution_count": 4,
   "metadata": {},
   "outputs": [],
   "source": [
    "def compare_frames_change_detection(prev_frame, next_frame, min_contour_area):\n",
    "\n",
    "    frame_delta = cv2.absdiff(prev_frame, next_frame)\n",
    "    thresh = cv2.threshold(frame_delta, 45, 255, cv2.THRESH_BINARY)[1]\n",
    "\n",
    "    thresh = cv2.dilate(thresh, None, iterations=2)\n",
    "    cnts = cv2.findContours(thresh.copy(), cv2.RETR_EXTERNAL, cv2.CHAIN_APPROX_SIMPLE)\n",
    "    cnts = imutils.grab_contours(cnts)\n",
    "\n",
    "    score = 0\n",
    "    res_cnts = []\n",
    "    for c in cnts:\n",
    "        if cv2.contourArea(c) < min_contour_area:\n",
    "            continue\n",
    "\n",
    "        res_cnts.append(c)\n",
    "        score += cv2.contourArea(c)\n",
    "\n",
    "    return score, res_cnts, thresh"
   ]
  },
  {
   "cell_type": "markdown",
   "metadata": {},
   "source": [
    "## Removing Similar-Looking Images"
   ]
  },
  {
   "cell_type": "markdown",
   "metadata": {},
   "source": [
    "This function removes similar-looking images from the specified folder.\n",
    "\n",
    "Parameters:\n",
    "- folder_path: Path to the folder containing the images.\n",
    "- min_similarity_score: Threshold for similarity between images.\n",
    "\n",
    "Returns:\n",
    "- None. Removes duplicate images from the folder."
   ]
  },
  {
   "cell_type": "code",
   "execution_count": 5,
   "metadata": {},
   "outputs": [],
   "source": [
    "import os\n",
    "import shutil\n",
    "\n",
    "def remove_similar_images(folder_path, min_similarity_score):\n",
    "    image_files = os.listdir(folder_path)\n",
    "\n",
    "    # Keep track of unique images\n",
    "    unique_images = []\n",
    "    duplicate_images = []\n",
    "\n",
    "    # Function to resize an image to a specific size\n",
    "    def resize_image(img, target_size):\n",
    "        return cv2.resize(img, target_size, interpolation=cv2.INTER_AREA)\n",
    "\n",
    "    # Create a new folder for unique images\n",
    "    new_folder_path = os.path.join(folder_path, \"unique_images\")\n",
    "    os.makedirs(new_folder_path, exist_ok=True)\n",
    "\n",
    "    for file_name in image_files:\n",
    "        image_path = os.path.join(folder_path, file_name)\n",
    "\n",
    "        # Check if the file is an image (with supported format)\n",
    "        if not os.path.isfile(image_path) or not image_path.lower().endswith(('.png', '.jpg', '.jpeg')):\n",
    "            print(f\"Skipping non-image file: {file_name}\")\n",
    "            continue\n",
    "\n",
    "        try:\n",
    "            # Load the image using PIL\n",
    "            image = Image.open(image_path)\n",
    "\n",
    "            # Convert the PIL image to a NumPy array (required for OpenCV compatibility)\n",
    "            image = np.array(image)\n",
    "\n",
    "            # Resize the image to a common size for comparison\n",
    "            target_size = (640, 480)  # Adjust the size as per your preference\n",
    "            image = resize_image(image, target_size)\n",
    "\n",
    "            # Preprocess image for comparison\n",
    "            preprocessed_image = preprocess_image_change_detection(image)\n",
    "\n",
    "            # Compare current image with unique images\n",
    "            is_duplicate = False\n",
    "            for unique_image, _ in unique_images:\n",
    "                score, _, _ = compare_frames_change_detection(unique_image, preprocessed_image, min_contour_area=500)\n",
    "                if score >= min_similarity_score:\n",
    "                    is_duplicate = True\n",
    "                    break\n",
    "\n",
    "            # If the image is not a duplicate, save it to the new folder\n",
    "            if not is_duplicate:\n",
    "                unique_images.append((preprocessed_image, file_name))\n",
    "                new_image_path = os.path.join(new_folder_path, file_name)\n",
    "                shutil.copy(image_path, new_image_path)\n",
    "            else:\n",
    "                duplicate_images.append(file_name)\n",
    "\n",
    "        except Exception as e:\n",
    "            print(f\"Failed to process image '{file_name}': {e}\")\n",
    "            continue\n",
    "\n",
    "    print(f\"Removed {len(duplicate_images)} similar-looking images.\")\n",
    "    print(f\"Saved {len(unique_images)} unique images to '{new_folder_path}'.\")"
   ]
  },
  {
   "cell_type": "markdown",
   "metadata": {},
   "source": [
    "## Example Usage"
   ]
  },
  {
   "cell_type": "code",
   "execution_count": 6,
   "metadata": {},
   "outputs": [
    {
     "name": "stdout",
     "output_type": "stream",
     "text": [
      "Skipping non-image file: .DS_Store\n",
      "Failed to process image 'c21_2021_03_27__10_36_36.png': cannot identify image file 'D:/Téléchargements/dataset\\\\c21_2021_03_27__10_36_36.png'\n",
      "Removed 1078 similar-looking images.\n",
      "Saved 1 unique images to 'D:/Téléchargements/dataset\\unique_images'.\n"
     ]
    }
   ],
   "source": [
    "folder_path = \"D:/Téléchargements/dataset\"  # Path of my folder\n",
    "min_similarity_score = 500  # Adjusted based on my preference\n",
    "\n",
    "remove_similar_images(folder_path, min_similarity_score)"
   ]
  }
 ],
 "metadata": {
  "kernelspec": {
   "display_name": "Python 3",
   "language": "python",
   "name": "python3"
  },
  "language_info": {
   "codemirror_mode": {
    "name": "ipython",
    "version": 3
   },
   "file_extension": ".py",
   "mimetype": "text/x-python",
   "name": "python",
   "nbconvert_exporter": "python",
   "pygments_lexer": "ipython3",
   "version": "3.8.5"
  }
 },
 "nbformat": 4,
 "nbformat_minor": 4
}
